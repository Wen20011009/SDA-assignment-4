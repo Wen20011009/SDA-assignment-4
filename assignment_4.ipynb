{
 "cells": [
  {
   "cell_type": "markdown",
   "metadata": {},
   "source": [
    "### Project Title: Urban Heat Islands: Analysis of Tree Cover and Surface Temperatures in Melbourne"
   ]
  },
  {
   "cell_type": "markdown",
   "metadata": {},
   "source": [
    "### Urban Ecology"
   ]
  },
  {
   "cell_type": "markdown",
   "metadata": {},
   "source": [
    "####\n",
    "Research Question:\n",
    "How does tree cover affect surface temperatures within urban areas, specifically in\n",
    "Melbourne, Victoria.\n",
    "\n",
    "Scope:\n",
    "This project will examine the city of Melbourne, focusing on various urban suburbs. The\n",
    "spatial scale will encompass city blocks and parks within these areas, and the temporal\n",
    "scope will focus on data from the past ten years"
   ]
  },
  {
   "cell_type": "markdown",
   "metadata": {},
   "source": []
  }
 ],
 "metadata": {
  "language_info": {
   "name": "python"
  },
  "orig_nbformat": 4
 },
 "nbformat": 4,
 "nbformat_minor": 2
}
